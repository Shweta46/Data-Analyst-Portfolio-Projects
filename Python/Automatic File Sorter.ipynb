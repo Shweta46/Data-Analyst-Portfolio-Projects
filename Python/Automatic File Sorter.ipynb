{
 "cells": [
  {
   "cell_type": "markdown",
   "id": "54e850fd-af23-48b0-9eb9-1a91b6e939f1",
   "metadata": {},
   "source": [
    "# Automatic File Sorter in file explorer"
   ]
  },
  {
   "cell_type": "code",
   "execution_count": 2,
   "id": "cd718e99-374f-4715-9a73-8c19ab23e242",
   "metadata": {},
   "outputs": [],
   "source": [
    "import os, shutil"
   ]
  },
  {
   "cell_type": "code",
   "execution_count": 12,
   "id": "b862f104-5675-46f5-a071-fcc47a79bd1b",
   "metadata": {},
   "outputs": [],
   "source": [
    "path = r\"E:/Data Science/SQL/Python/Automatic File Sorter Project/Folder to sort/\""
   ]
  },
  {
   "cell_type": "code",
   "execution_count": 18,
   "id": "2b617560-0e6d-481c-99a5-331383825014",
   "metadata": {},
   "outputs": [],
   "source": [
    "file_names = os.listdir(path)"
   ]
  },
  {
   "cell_type": "code",
   "execution_count": 29,
   "id": "f7d2f3be-1686-40ed-963a-4cbfd1f56114",
   "metadata": {},
   "outputs": [],
   "source": [
    "folder_names = ['csv files', 'image files', 'doc files']\n",
    "for loop in range(0,3):\n",
    "    if not os.path.exists(path + folder_names[loop]):\n",
    "        print((path + folder_names[loop]))\n",
    "        os.makedirs(path + folder_names[loop])"
   ]
  },
  {
   "cell_type": "code",
   "execution_count": 31,
   "id": "ded7ce44-5936-4b69-9d59-327d38adbe74",
   "metadata": {},
   "outputs": [],
   "source": [
    "# checks individual files in the selected folder path, and if they are already in the sorted folder \n",
    "# if not, then move that file in the respective folder\n",
    "for file in file_names:\n",
    "    if \".jpg\" in file and not os.path.exists(path + \"image files/\" + file):\n",
    "        shutil.move(path + file, path + \"image files/\" + file)\n",
    "    if \".docx\" in file and not os.path.exists(path + \"doc files/\" + file):\n",
    "        shutil.move(path + file, path + \"doc files/\" + file)\n",
    "    if \".csv\" in file and not os.path.exists(path + \"csv files/\" + file):\n",
    "        shutil.move(path + file, path + \"csv files/\" + file)"
   ]
  },
  {
   "cell_type": "code",
   "execution_count": null,
   "id": "ce3088f3-89a0-46e5-a180-2fe38bd9625f",
   "metadata": {},
   "outputs": [],
   "source": []
  }
 ],
 "metadata": {
  "kernelspec": {
   "display_name": "Python 3 (ipykernel)",
   "language": "python",
   "name": "python3"
  },
  "language_info": {
   "codemirror_mode": {
    "name": "ipython",
    "version": 3
   },
   "file_extension": ".py",
   "mimetype": "text/x-python",
   "name": "python",
   "nbconvert_exporter": "python",
   "pygments_lexer": "ipython3",
   "version": "3.12.1"
  }
 },
 "nbformat": 4,
 "nbformat_minor": 5
}
