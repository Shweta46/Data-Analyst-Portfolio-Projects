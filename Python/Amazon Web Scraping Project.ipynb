{
 "cells": [
  {
   "cell_type": "code",
   "execution_count": 39,
   "id": "236edd4d-0193-40b0-9783-1154f7c89810",
   "metadata": {},
   "outputs": [],
   "source": [
    "from bs4 import BeautifulSoup as bs\n",
    "import requests\n",
    "import smtplib\n",
    "import time\n",
    "import datetime\n",
    "\n",
    "# https://python-forum.io/thread-38862.html"
   ]
  },
  {
   "cell_type": "code",
   "execution_count": 40,
   "id": "0f9baacf-6449-4266-924d-310e9a89c1d9",
   "metadata": {},
   "outputs": [
    {
     "name": "stdout",
     "output_type": "stream",
     "text": [
      "\n",
      "           Momentive Performance Materials GE284 2.8-Ounce Silicone II Premium Waterproof Kitchen and Bath Squeeze Tube, Clear\n",
      "          \n",
      "\n",
      "                         $8.99\n",
      "                        \n"
     ]
    }
   ],
   "source": [
    "# Connect to website\n",
    "url = 'https://www.amazon.com/Momentive-Performance-Materials-GE284-Waterproof/dp/B001JK5R0I/ref=pd_sim_cpf_related_desktop_d_sccl_3_1/133-8736340-3018253?pd_rd_i=B001JK5R0I&psc=1'\n",
    "\n",
    "# choosing the right kind of header helped me a lot in this\n",
    "headers = {\n",
    "    'authority': 'www.amazon.com',\n",
    "    'pragma': 'no-cache',\n",
    "    'cache-control': 'no-cache',\n",
    "    'dnt': '1',\n",
    "    'upgrade-insecure-requests': '1',\n",
    "    'user-agent': 'Mozilla/5.0 (X11; CrOS x86_64 8172.45.0) AppleWebKit/537.36 (KHTML, like Gecko) Chrome/51.0.2704.64 Safari/537.36',\n",
    "    'accept': 'text/html,application/xhtml+xml,application/xml;q=0.9,image/webp,image/apng,*/*;q=0.8,application/signed-exchange;v=b3;q=0.9',\n",
    "    'sec-fetch-site': 'none',\n",
    "    'sec-fetch-mode': 'navigate',\n",
    "    'sec-fetch-dest': 'document',\n",
    "    'accept-language': 'en-GB,en-US;q=0.9,en;q=0.8',\n",
    "}\n",
    "\n",
    "page = requests.get(url, headers=headers)\n",
    "\n",
    "# Pulling in the content from the page\n",
    "soup1 = bs(page.text,'lxml')\n",
    "soup2 = bs(soup1.prettify(),'lxml')\n",
    "\n",
    "title = soup2.find(id='productTitle').get_text()\n",
    "price = soup2.find(class_='a-offscreen').get_text()\n",
    "\n",
    "print(title)\n",
    "print(price)"
   ]
  },
  {
   "cell_type": "code",
   "execution_count": 41,
   "id": "c80eb071-d204-484e-b9fc-21bb24b1b53d",
   "metadata": {},
   "outputs": [
    {
     "name": "stdout",
     "output_type": "stream",
     "text": [
      "8.99\n"
     ]
    }
   ],
   "source": [
    "# cleaning the data from either side of the data that we got from website\n",
    "# since we want the price data to have only numeric values and no dollar sign, \n",
    "# we will strip the dollar sign off that as well\n",
    "\n",
    "price = price.strip()[1:]\n",
    "title = title.strip()\n",
    "# print(title)\n",
    "print(price)"
   ]
  },
  {
   "cell_type": "code",
   "execution_count": 42,
   "id": "336af9f3-a985-44a1-a39a-bdff3b5bd767",
   "metadata": {},
   "outputs": [
    {
     "data": {
      "text/plain": [
       "str"
      ]
     },
     "execution_count": 42,
     "metadata": {},
     "output_type": "execute_result"
    }
   ],
   "source": [
    "type(price)"
   ]
  },
  {
   "cell_type": "markdown",
   "id": "0e9991c8-a37e-4a27-8a7e-11687cc3f181",
   "metadata": {},
   "source": [
    "\n",
    "### Inserting/ writing the data gathered from the website into a newly created csv file by us:\n",
    "#### This is for initial insertion of data where we define the column/ headers of the file the appending of the data in this very csv file is different. We will also be adding date of the data imported, its never not useful."
   ]
  },
  {
   "cell_type": "code",
   "execution_count": 48,
   "id": "d9032359-def0-4f09-8185-7e181af08a07",
   "metadata": {},
   "outputs": [
    {
     "name": "stdout",
     "output_type": "stream",
     "text": [
      "2024-03-01\n"
     ]
    }
   ],
   "source": [
    "import datetime\n",
    "today = datetime.date.today()\n",
    "print(today)"
   ]
  },
  {
   "cell_type": "code",
   "execution_count": 49,
   "id": "0340a87d-e06e-407a-853d-0344c2205747",
   "metadata": {},
   "outputs": [
    {
     "data": {
      "text/plain": [
       "list"
      ]
     },
     "execution_count": 49,
     "metadata": {},
     "output_type": "execute_result"
    }
   ],
   "source": [
    "import csv\n",
    "header = ['Title', 'Price', 'Date']\n",
    "\n",
    "# changing the data type of title and price to list\n",
    "data = [title, price, today]\n",
    "\n",
    "type(data)"
   ]
  },
  {
   "cell_type": "code",
   "execution_count": 50,
   "id": "427a3e48-58c7-40e8-949d-027e5b405523",
   "metadata": {},
   "outputs": [],
   "source": [
    "with open('AmazonWebScraper.csv', 'w', newline='', encoding='UTF8') as f:\n",
    "    writer = csv.writer(f)\n",
    "    writer.writerow(header)\n",
    "    writer.writerow(data)"
   ]
  },
  {
   "cell_type": "code",
   "execution_count": 51,
   "id": "ec494fa0-953e-4894-bdcd-f5b2580562b2",
   "metadata": {},
   "outputs": [
    {
     "data": {
      "text/html": [
       "<div>\n",
       "<style scoped>\n",
       "    .dataframe tbody tr th:only-of-type {\n",
       "        vertical-align: middle;\n",
       "    }\n",
       "\n",
       "    .dataframe tbody tr th {\n",
       "        vertical-align: top;\n",
       "    }\n",
       "\n",
       "    .dataframe thead th {\n",
       "        text-align: right;\n",
       "    }\n",
       "</style>\n",
       "<table border=\"1\" class=\"dataframe\">\n",
       "  <thead>\n",
       "    <tr style=\"text-align: right;\">\n",
       "      <th></th>\n",
       "      <th>Title</th>\n",
       "      <th>Price</th>\n",
       "      <th>Date</th>\n",
       "    </tr>\n",
       "  </thead>\n",
       "  <tbody>\n",
       "    <tr>\n",
       "      <th>0</th>\n",
       "      <td>Momentive Performance Materials GE284 2.8-Ounc...</td>\n",
       "      <td>8.99</td>\n",
       "      <td>2024-03-01</td>\n",
       "    </tr>\n",
       "  </tbody>\n",
       "</table>\n",
       "</div>"
      ],
      "text/plain": [
       "                                               Title  Price        Date\n",
       "0  Momentive Performance Materials GE284 2.8-Ounc...   8.99  2024-03-01"
      ]
     },
     "execution_count": 51,
     "metadata": {},
     "output_type": "execute_result"
    }
   ],
   "source": [
    "import pandas as pd\n",
    "df = pd.read_csv(r'E:\\Data Science\\SQL\\Projects\\3 Amazon Web Scraping Using Python\\AmazonWebScraper.csv')\n",
    "df"
   ]
  },
  {
   "cell_type": "code",
   "execution_count": null,
   "id": "2f798bda-f0ad-4de7-a5b4-d3bf0c16cb3c",
   "metadata": {},
   "outputs": [],
   "source": []
  }
 ],
 "metadata": {
  "kernelspec": {
   "display_name": "Python 3 (ipykernel)",
   "language": "python",
   "name": "python3"
  },
  "language_info": {
   "codemirror_mode": {
    "name": "ipython",
    "version": 3
   },
   "file_extension": ".py",
   "mimetype": "text/x-python",
   "name": "python",
   "nbconvert_exporter": "python",
   "pygments_lexer": "ipython3",
   "version": "3.12.1"
  }
 },
 "nbformat": 4,
 "nbformat_minor": 5
}
